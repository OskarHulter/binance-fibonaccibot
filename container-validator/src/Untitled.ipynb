{
 "cells": [
  {
   "cell_type": "code",
   "execution_count": 1,
   "id": "direct-chicken",
   "metadata": {},
   "outputs": [],
   "source": [
    "#import modules\n",
    "import json\n",
    "from binance.client import Client\n",
    "import pandas as pd\n",
    "from envs import env\n",
    "from dotenv import load_dotenv"
   ]
  },
  {
   "cell_type": "code",
   "execution_count": 2,
   "id": "cardiac-rainbow",
   "metadata": {},
   "outputs": [],
   "source": [
    "#import classes from ./ folder\n",
    "import timescaledbAccess"
   ]
  },
  {
   "cell_type": "code",
   "execution_count": 3,
   "id": "desperate-douglas",
   "metadata": {},
   "outputs": [
    {
     "data": {
      "text/plain": [
       "True"
      ]
     },
     "execution_count": 3,
     "metadata": {},
     "output_type": "execute_result"
    }
   ],
   "source": [
    "#read env vars\n",
    "load_dotenv()"
   ]
  },
  {
   "cell_type": "code",
   "execution_count": 4,
   "id": "seeing-index",
   "metadata": {},
   "outputs": [],
   "source": [
    "timescale = timescaledbAccess.timescaleAccess()\n",
    "try:\n",
    "    liveVolume=env(\"liveVolume\")\n",
    "    apiSecret=env('apiSecret')\n",
    "    apiKey=env('apiKey')\n",
    "except KeyError:\n",
    "    print(\"No env variables set.\")\n",
    "    sys.exit(1)\n",
    "#connect to binance to get current balance\n",
    "client = Client(apiKey, apiSecret, {'timeout':600})"
   ]
  },
  {
   "cell_type": "code",
   "execution_count": 5,
   "id": "closed-corpus",
   "metadata": {},
   "outputs": [],
   "source": [
    "sql = (\"SELECT id, askprice, managedassets\" +\n",
    "    \" FROM table001 WHERE\" +\n",
    "    \" resultpercent IS NULL \" +\n",
    "    \" AND takeprofit IS NOT NULL;\")\n",
    "bA = pd.DataFrame(timescale.sqlQuery(sql))\n",
    "bA = bA.apply(pd.to_numeric, errors='coerce')"
   ]
  },
  {
   "cell_type": "code",
   "execution_count": 6,
   "id": "attended-senegal",
   "metadata": {},
   "outputs": [
    {
     "name": "stdout",
     "output_type": "stream",
     "text": [
      "       0       1        2\n",
      "0  76024  0.1592  0.00042\n"
     ]
    }
   ],
   "source": [
    "print(bA)"
   ]
  },
  {
   "cell_type": "code",
   "execution_count": 10,
   "id": "unauthorized-discretion",
   "metadata": {},
   "outputs": [],
   "source": [
    "sql = (\"select symbol from table001 where id = '\" + str(bA[0][0]) + \"';\")\n",
    "symbol = pd.DataFrame(timescale.sqlQuery(sql))\n",
    "sql = (\"select max(id) from table001 where symbol = '\" + str(symbol[0][0]) + \"';\")\n",
    "maxId = pd.DataFrame(timescale.sqlQuery(sql))"
   ]
  },
  {
   "cell_type": "code",
   "execution_count": 11,
   "id": "apparent-coordinate",
   "metadata": {},
   "outputs": [
    {
     "name": "stdout",
     "output_type": "stream",
     "text": [
      "        0\n",
      "0  115240\n"
     ]
    }
   ],
   "source": [
    "print(maxId)"
   ]
  },
  {
   "cell_type": "code",
   "execution_count": 12,
   "id": "0e4c7452",
   "metadata": {},
   "outputs": [],
   "source": [
    "percentChange = (float(client.get_asset_balance(asset='BNB')['free']) - bA[2][0]) / 0.1"
   ]
  },
  {
   "cell_type": "code",
   "execution_count": 13,
   "id": "13c10b3c",
   "metadata": {},
   "outputs": [
    {
     "name": "stdout",
     "output_type": "stream",
     "text": [
      "-0.0041979999999999995\n"
     ]
    }
   ],
   "source": [
    "print(percentChange)"
   ]
  },
  {
   "cell_type": "code",
   "execution_count": 16,
   "id": "0b5b8328",
   "metadata": {},
   "outputs": [],
   "source": [
    "sql = (\"UPDATE table001 SET\" +\n",
    "\" resultpercent = '\" + str(percentChange) +\n",
    "\"', stopid = '\" + str(maxId[0][0]) +\n",
    "\"' WHERE id = '\" + str(maxId[0][0]) +\n",
    "\"';\")"
   ]
  },
  {
   "cell_type": "code",
   "execution_count": 38,
   "id": "781b1074",
   "metadata": {},
   "outputs": [
    {
     "name": "stdout",
     "output_type": "stream",
     "text": [
      "select symbol from table001 where id = '76024';\n",
      "error in query\n"
     ]
    },
    {
     "ename": "UnboundLocalError",
     "evalue": "local variable 'result' referenced before assignment",
     "output_type": "error",
     "traceback": [
      "\u001b[0;31m---------------------------------------------------------------------------\u001b[0m",
      "\u001b[0;31mUnboundLocalError\u001b[0m                         Traceback (most recent call last)",
      "\u001b[0;32m<ipython-input-38-1bfb0b3baace>\u001b[0m in \u001b[0;36m<module>\u001b[0;34m\u001b[0m\n\u001b[1;32m      3\u001b[0m \u001b[0msql\u001b[0m \u001b[0;34m=\u001b[0m \u001b[0;34m(\u001b[0m\u001b[0;34m\"select symbol from table001 where id = '\"\u001b[0m \u001b[0;34m+\u001b[0m \u001b[0mstr\u001b[0m\u001b[0;34m(\u001b[0m\u001b[0mbA\u001b[0m\u001b[0;34m[\u001b[0m\u001b[0;36m0\u001b[0m\u001b[0;34m]\u001b[0m\u001b[0;34m[\u001b[0m\u001b[0;36m0\u001b[0m\u001b[0;34m]\u001b[0m\u001b[0;34m)\u001b[0m \u001b[0;34m+\u001b[0m \u001b[0;34m\"';\"\u001b[0m\u001b[0;34m)\u001b[0m\u001b[0;34m\u001b[0m\u001b[0;34m\u001b[0m\u001b[0m\n\u001b[1;32m      4\u001b[0m \u001b[0mprint\u001b[0m\u001b[0;34m(\u001b[0m\u001b[0msql\u001b[0m\u001b[0;34m)\u001b[0m\u001b[0;34m\u001b[0m\u001b[0;34m\u001b[0m\u001b[0m\n\u001b[0;32m----> 5\u001b[0;31m \u001b[0msymbol\u001b[0m \u001b[0;34m=\u001b[0m \u001b[0mpd\u001b[0m\u001b[0;34m.\u001b[0m\u001b[0mDataFrame\u001b[0m\u001b[0;34m(\u001b[0m\u001b[0mtimescale\u001b[0m\u001b[0;34m.\u001b[0m\u001b[0msqlQuery\u001b[0m\u001b[0;34m(\u001b[0m\u001b[0msql\u001b[0m\u001b[0;34m)\u001b[0m\u001b[0;34m)\u001b[0m\u001b[0;34m\u001b[0m\u001b[0;34m\u001b[0m\u001b[0m\n\u001b[0m\u001b[1;32m      6\u001b[0m \u001b[0mprint\u001b[0m\u001b[0;34m(\u001b[0m\u001b[0msymbol\u001b[0m\u001b[0;34m)\u001b[0m\u001b[0;34m\u001b[0m\u001b[0;34m\u001b[0m\u001b[0m\n",
      "\u001b[0;32m~/binance-fibonaccibot/container-validator/src/timescaledbAccess.py\u001b[0m in \u001b[0;36msqlQuery\u001b[0;34m(self, sql)\u001b[0m\n\u001b[1;32m     95\u001b[0m         \u001b[0;32mexcept\u001b[0m\u001b[0;34m:\u001b[0m\u001b[0;34m\u001b[0m\u001b[0;34m\u001b[0m\u001b[0m\n\u001b[1;32m     96\u001b[0m             \u001b[0mprint\u001b[0m\u001b[0;34m(\u001b[0m\u001b[0;34m\"error in query\"\u001b[0m\u001b[0;34m)\u001b[0m\u001b[0;34m\u001b[0m\u001b[0;34m\u001b[0m\u001b[0m\n\u001b[0;32m---> 97\u001b[0;31m         \u001b[0;32mreturn\u001b[0m \u001b[0mresult\u001b[0m\u001b[0;34m\u001b[0m\u001b[0;34m\u001b[0m\u001b[0m\n\u001b[0m\u001b[1;32m     98\u001b[0m \u001b[0;34m\u001b[0m\u001b[0m\n\u001b[1;32m     99\u001b[0m     \u001b[0;32mdef\u001b[0m \u001b[0minsertRow\u001b[0m\u001b[0;34m(\u001b[0m\u001b[0mself\u001b[0m\u001b[0;34m,\u001b[0m \u001b[0mwriteDict\u001b[0m\u001b[0;34m,\u001b[0m \u001b[0mtableName\u001b[0m \u001b[0;34m=\u001b[0m \u001b[0;34m\"table001\"\u001b[0m\u001b[0;34m)\u001b[0m\u001b[0;34m:\u001b[0m\u001b[0;34m\u001b[0m\u001b[0;34m\u001b[0m\u001b[0m\n",
      "\u001b[0;31mUnboundLocalError\u001b[0m: local variable 'result' referenced before assignment"
     ]
    }
   ],
   "source": [
    "percentChange = (float(client.get_asset_balance(asset='BNB')['free']) - bA[2][0]) / 0.1\n",
    "#get max id\n",
    "sql = (\"select symbol from table001 where id = '\" + str(bA[0][0]) + \"';\")\n",
    "print(sql)\n",
    "symbol = pd.DataFrame(timescale.sqlQuery(sql))\n",
    "print(symbol)"
   ]
  },
  {
   "cell_type": "code",
   "execution_count": 36,
   "id": "d9222eba",
   "metadata": {},
   "outputs": [
    {
     "name": "stdout",
     "output_type": "stream",
     "text": [
      "UPDATE table001 SET resultpercent = '-0.0041979999999999995', stopid = '        0\n",
      "0  113074' WHERE id = '113074';\n",
      "error in update\n"
     ]
    }
   ],
   "source": [
    "sql = (\"select max(id) from table001 where symbol = '\" + str(symbol[0][0]) + \"';\")\n",
    "maxId = pd.DataFrame(timescale.sqlQuery(sql))\n",
    "sql = (\"UPDATE table001 SET\" +\n",
    "\" resultpercent = '\" + str(percentChange) +\n",
    "\"', stopid = '\" + str(maxId) +\n",
    "\"' WHERE id = '\" + str(maxId[0][0]) +\n",
    "\"';\")\n",
    "print(sql)\n",
    "timescale.sqlUpdate(sql)\n",
    "timescale.databaseClose()"
   ]
  },
  {
   "cell_type": "code",
   "execution_count": 42,
   "id": "e7a533ed",
   "metadata": {},
   "outputs": [
    {
     "name": "stdout",
     "output_type": "stream",
     "text": [
      "error in query\n"
     ]
    },
    {
     "ename": "UnboundLocalError",
     "evalue": "local variable 'result' referenced before assignment",
     "output_type": "error",
     "traceback": [
      "\u001b[0;31m---------------------------------------------------------------------------\u001b[0m",
      "\u001b[0;31mUnboundLocalError\u001b[0m                         Traceback (most recent call last)",
      "\u001b[0;32m<ipython-input-42-a97cf8e4ec10>\u001b[0m in \u001b[0;36m<module>\u001b[0;34m\u001b[0m\n\u001b[1;32m      1\u001b[0m \u001b[0msql\u001b[0m \u001b[0;34m=\u001b[0m \u001b[0;34m(\u001b[0m\u001b[0;34m\"select count(*) from table001;\"\u001b[0m\u001b[0;34m)\u001b[0m\u001b[0;34m\u001b[0m\u001b[0;34m\u001b[0m\u001b[0m\n\u001b[0;32m----> 2\u001b[0;31m \u001b[0mmaxId\u001b[0m \u001b[0;34m=\u001b[0m \u001b[0mpd\u001b[0m\u001b[0;34m.\u001b[0m\u001b[0mDataFrame\u001b[0m\u001b[0;34m(\u001b[0m\u001b[0mtimescale\u001b[0m\u001b[0;34m.\u001b[0m\u001b[0msqlQuery\u001b[0m\u001b[0;34m(\u001b[0m\u001b[0msql\u001b[0m\u001b[0;34m)\u001b[0m\u001b[0;34m)\u001b[0m\u001b[0;34m\u001b[0m\u001b[0;34m\u001b[0m\u001b[0m\n\u001b[0m",
      "\u001b[0;32m~/binance-fibonaccibot/container-validator/src/timescaledbAccess.py\u001b[0m in \u001b[0;36msqlQuery\u001b[0;34m(self, sql)\u001b[0m\n\u001b[1;32m     95\u001b[0m         \u001b[0;32mexcept\u001b[0m\u001b[0;34m:\u001b[0m\u001b[0;34m\u001b[0m\u001b[0;34m\u001b[0m\u001b[0m\n\u001b[1;32m     96\u001b[0m             \u001b[0mprint\u001b[0m\u001b[0;34m(\u001b[0m\u001b[0;34m\"error in query\"\u001b[0m\u001b[0;34m)\u001b[0m\u001b[0;34m\u001b[0m\u001b[0;34m\u001b[0m\u001b[0m\n\u001b[0;32m---> 97\u001b[0;31m         \u001b[0;32mreturn\u001b[0m \u001b[0mresult\u001b[0m\u001b[0;34m\u001b[0m\u001b[0;34m\u001b[0m\u001b[0m\n\u001b[0m\u001b[1;32m     98\u001b[0m \u001b[0;34m\u001b[0m\u001b[0m\n\u001b[1;32m     99\u001b[0m     \u001b[0;32mdef\u001b[0m \u001b[0minsertRow\u001b[0m\u001b[0;34m(\u001b[0m\u001b[0mself\u001b[0m\u001b[0;34m,\u001b[0m \u001b[0mwriteDict\u001b[0m\u001b[0;34m,\u001b[0m \u001b[0mtableName\u001b[0m \u001b[0;34m=\u001b[0m \u001b[0;34m\"table001\"\u001b[0m\u001b[0;34m)\u001b[0m\u001b[0;34m:\u001b[0m\u001b[0;34m\u001b[0m\u001b[0;34m\u001b[0m\u001b[0m\n",
      "\u001b[0;31mUnboundLocalError\u001b[0m: local variable 'result' referenced before assignment"
     ]
    }
   ],
   "source": [
    "sql = (\"select count(*) from table001;\")\n",
    "maxId = pd.DataFrame(timescale.sqlQuery(sql))"
   ]
  },
  {
   "cell_type": "code",
   "execution_count": 40,
   "id": "296213d0",
   "metadata": {},
   "outputs": [],
   "source": [
    "timescale.databaseClose()"
   ]
  },
  {
   "cell_type": "code",
   "execution_count": null,
   "id": "268499f3",
   "metadata": {},
   "outputs": [],
   "source": []
  }
 ],
 "metadata": {
  "kernelspec": {
   "display_name": "Python 3",
   "language": "python",
   "name": "python3"
  },
  "language_info": {
   "codemirror_mode": {
    "name": "ipython",
    "version": 3
   },
   "file_extension": ".py",
   "mimetype": "text/x-python",
   "name": "python",
   "nbconvert_exporter": "python",
   "pygments_lexer": "ipython3",
   "version": "3.9.4"
  }
 },
 "nbformat": 4,
 "nbformat_minor": 5
}
