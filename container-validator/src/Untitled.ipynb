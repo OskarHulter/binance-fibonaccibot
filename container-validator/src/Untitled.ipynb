{
 "cells": [
  {
   "cell_type": "code",
   "execution_count": 1,
   "id": "direct-chicken",
   "metadata": {},
   "outputs": [],
   "source": [
    "#import modules\n",
    "import json\n",
    "from binance.client import Client\n",
    "import pandas as pd\n",
    "from envs import env\n",
    "from dotenv import load_dotenv"
   ]
  },
  {
   "cell_type": "code",
   "execution_count": 2,
   "id": "cardiac-rainbow",
   "metadata": {},
   "outputs": [],
   "source": [
    "#import classes from ./ folder\n",
    "import timescaledbAccess"
   ]
  },
  {
   "cell_type": "code",
   "execution_count": 3,
   "id": "desperate-douglas",
   "metadata": {},
   "outputs": [
    {
     "data": {
      "text/plain": [
       "True"
      ]
     },
     "execution_count": 3,
     "metadata": {},
     "output_type": "execute_result"
    }
   ],
   "source": [
    "#read env vars\n",
    "load_dotenv()"
   ]
  },
  {
   "cell_type": "code",
   "execution_count": 4,
   "id": "seeing-index",
   "metadata": {},
   "outputs": [],
   "source": [
    "timescale = timescaledbAccess.timescaleAccess()\n",
    "try:\n",
    "    liveVolume=env(\"liveVolume\")\n",
    "    apiSecret=env('apiSecret')\n",
    "    apiKey=env('apiKey')\n",
    "except KeyError:\n",
    "    print(\"No env variables set.\")\n",
    "    sys.exit(1)\n",
    "#connect to binance to get current balance\n",
    "client = Client(apiKey, apiSecret, {'timeout':600})"
   ]
  },
  {
   "cell_type": "code",
   "execution_count": 5,
   "id": "accredited-lemon",
   "metadata": {},
   "outputs": [
    {
     "data": {
      "text/plain": [
       "'0.00000000'"
      ]
     },
     "execution_count": 5,
     "metadata": {},
     "output_type": "execute_result"
    }
   ],
   "source": [
    "client.get_asset_balance(asset='BNB')['free']"
   ]
  },
  {
   "cell_type": "code",
   "execution_count": 6,
   "id": "closed-corpus",
   "metadata": {},
   "outputs": [],
   "source": [
    "sql = (\"SELECT id, askprice, managedassets\" +\n",
    "    \" FROM table001 WHERE\" +\n",
    "    \" resultpercent IS NULL \" +\n",
    "    \" AND takeprofit IS NOT NULL;\")\n",
    "bA = pd.DataFrame(timescale.sqlQuery(sql))\n",
    "bA = bA.apply(pd.to_numeric, errors='coerce')"
   ]
  },
  {
   "cell_type": "code",
   "execution_count": 7,
   "id": "attended-senegal",
   "metadata": {},
   "outputs": [
    {
     "name": "stdout",
     "output_type": "stream",
     "text": [
      "       0       1        2\n",
      "0  76024  0.1592  0.00042\n"
     ]
    }
   ],
   "source": [
    "print(bA)"
   ]
  },
  {
   "cell_type": "code",
   "execution_count": 43,
   "id": "unauthorized-discretion",
   "metadata": {},
   "outputs": [],
   "source": [
    "sql = (\"select symbol from table001 where id = '1';\")\n",
    "symbol = pd.DataFrame(timescale.sqlQuery(sql))\n",
    "sql = (\"select max(id) from table001 where symbol = '\" + str(symbol[0][0]) + \"';\")\n",
    "maxId = pd.DataFrame(timescale.sqlQuery(sql))"
   ]
  },
  {
   "cell_type": "code",
   "execution_count": 44,
   "id": "apparent-coordinate",
   "metadata": {},
   "outputs": [
    {
     "name": "stdout",
     "output_type": "stream",
     "text": [
      "12199\n"
     ]
    }
   ],
   "source": [
    "print(maxId[0][0])"
   ]
  },
  {
   "cell_type": "code",
   "execution_count": 45,
   "id": "conceptual-nerve",
   "metadata": {},
   "outputs": [
    {
     "name": "stdout",
     "output_type": "stream",
     "text": [
      "yee\n"
     ]
    }
   ],
   "source": [
    "if ((1 == 2 or 1 == 1) and \n",
    "    0 == 0):\n",
    "    print(\"yee\")"
   ]
  },
  {
   "cell_type": "code",
   "execution_count": 8,
   "id": "29d60346",
   "metadata": {},
   "outputs": [
    {
     "data": {
      "text/plain": [
       "[]"
      ]
     },
     "execution_count": 8,
     "metadata": {},
     "output_type": "execute_result"
    }
   ],
   "source": [
    "client.get_open_orders()"
   ]
  },
  {
   "cell_type": "code",
   "execution_count": null,
   "id": "eea2ee97",
   "metadata": {},
   "outputs": [],
   "source": []
  }
 ],
 "metadata": {
  "kernelspec": {
   "display_name": "Python 3",
   "language": "python",
   "name": "python3"
  },
  "language_info": {
   "codemirror_mode": {
    "name": "ipython",
    "version": 3
   },
   "file_extension": ".py",
   "mimetype": "text/x-python",
   "name": "python",
   "nbconvert_exporter": "python",
   "pygments_lexer": "ipython3",
   "version": "3.9.4"
  }
 },
 "nbformat": 4,
 "nbformat_minor": 5
}
