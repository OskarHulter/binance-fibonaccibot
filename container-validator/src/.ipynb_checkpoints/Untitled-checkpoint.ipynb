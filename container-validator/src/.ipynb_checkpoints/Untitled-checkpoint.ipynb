{
 "cells": [
  {
   "cell_type": "code",
   "execution_count": 30,
   "id": "suitable-lemon",
   "metadata": {},
   "outputs": [],
   "source": [
    "#import modules\n",
    "import json\n",
    "from binance.client import Client\n",
    "import pandas as pd\n",
    "from envs import env\n",
    "from dotenv import load_dotenv"
   ]
  },
  {
   "cell_type": "code",
   "execution_count": 31,
   "id": "lightweight-spelling",
   "metadata": {},
   "outputs": [],
   "source": [
    "#import classes from ./ folder\n",
    "import timescaledbAccess"
   ]
  },
  {
   "cell_type": "code",
   "execution_count": 32,
   "id": "fatal-fundamental",
   "metadata": {},
   "outputs": [
    {
     "data": {
      "text/plain": [
       "True"
      ]
     },
     "execution_count": 32,
     "metadata": {},
     "output_type": "execute_result"
    }
   ],
   "source": [
    "#read env vars\n",
    "load_dotenv()"
   ]
  },
  {
   "cell_type": "code",
   "execution_count": 33,
   "id": "sufficient-supplier",
   "metadata": {},
   "outputs": [],
   "source": [
    "timescale = timescaledbAccess.timescaleAccess()\n",
    "try:\n",
    "    liveVolume=env(\"liveVolume\")\n",
    "    apiSecret=env('apiSecret')\n",
    "    apiKey=env('apiKey')\n",
    "except KeyError:\n",
    "    print(\"No env variables set.\")\n",
    "    sys.exit(1)\n",
    "#connect to binance to get current balance\n",
    "client = Client(apiKey, apiSecret, {'timeout':600})"
   ]
  },
  {
   "cell_type": "code",
   "execution_count": 34,
   "id": "advance-relationship",
   "metadata": {},
   "outputs": [
    {
     "name": "stdout",
     "output_type": "stream",
     "text": [
      "YY\n"
     ]
    }
   ],
   "source": [
    "if len(client.get_open_orders()) == 0:\n",
    "    print(\"YY\")"
   ]
  },
  {
   "cell_type": "code",
   "execution_count": 35,
   "id": "patent-absence",
   "metadata": {},
   "outputs": [
    {
     "data": {
      "text/plain": [
       "'0.00000000'"
      ]
     },
     "execution_count": 35,
     "metadata": {},
     "output_type": "execute_result"
    }
   ],
   "source": [
    "client.get_asset_balance(asset='BNB')['free']"
   ]
  },
  {
   "cell_type": "code",
   "execution_count": 36,
   "id": "looking-maple",
   "metadata": {},
   "outputs": [],
   "source": [
    "sql = (\"SELECT id, askprice, managedassets\" +\n",
    "    \" FROM table001 WHERE\" +\n",
    "    \" resultpercent IS NULL \" +\n",
    "    \" AND takeprofit IS NOT NULL;\")\n",
    "bA = pd.DataFrame(timescale.sqlQuery(sql))\n",
    "bA = bA.apply(pd.to_numeric, errors='coerce')"
   ]
  },
  {
   "cell_type": "code",
   "execution_count": 37,
   "id": "alleged-jaguar",
   "metadata": {},
   "outputs": [
    {
     "name": "stdout",
     "output_type": "stream",
     "text": [
      "1\n",
      "2\n"
     ]
    }
   ],
   "source": [
    "for i in range(1,3):\n",
    "    print(i)"
   ]
  },
  {
   "cell_type": "code",
   "execution_count": 43,
   "id": "extensive-novelty",
   "metadata": {},
   "outputs": [],
   "source": [
    "sql = (\"select symbol from table001 where id = '1';\")\n",
    "symbol = pd.DataFrame(timescale.sqlQuery(sql))\n",
    "sql = (\"select max(id) from table001 where symbol = '\" + str(symbol[0][0]) + \"';\")\n",
    "maxId = pd.DataFrame(timescale.sqlQuery(sql))"
   ]
  },
  {
   "cell_type": "code",
   "execution_count": 41,
   "id": "dental-nigeria",
   "metadata": {},
   "outputs": [
    {
     "name": "stdout",
     "output_type": "stream",
     "text": [
      "11970\n"
     ]
    }
   ],
   "source": [
    "print(maxId[0][0])"
   ]
  },
  {
   "cell_type": "code",
   "execution_count": null,
   "id": "homeless-mississippi",
   "metadata": {},
   "outputs": [],
   "source": []
  }
 ],
 "metadata": {
  "kernelspec": {
   "display_name": "Python 3",
   "language": "python",
   "name": "python3"
  },
  "language_info": {
   "codemirror_mode": {
    "name": "ipython",
    "version": 3
   },
   "file_extension": ".py",
   "mimetype": "text/x-python",
   "name": "python",
   "nbconvert_exporter": "python",
   "pygments_lexer": "ipython3",
   "version": "3.8.5"
  }
 },
 "nbformat": 4,
 "nbformat_minor": 5
}
