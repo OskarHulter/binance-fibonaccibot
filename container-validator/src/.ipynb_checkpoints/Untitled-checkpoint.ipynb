{
 "cells": [
  {
   "cell_type": "code",
   "execution_count": 17,
   "id": "liquid-singapore",
   "metadata": {},
   "outputs": [],
   "source": [
    "#import modules\n",
    "import json\n",
    "import pandas as pd\n",
    "import schedule\n",
    "import time\n",
    "\n",
    "#import classes from ./ folder\n",
    "import timescaledbAccess\n",
    "\n",
    "#read fibonacci retracements  from json\n",
    "with open('fibLvl.json') as file:\n",
    "    fibLvl = json.load(file)"
   ]
  },
  {
   "cell_type": "code",
   "execution_count": 73,
   "id": "alive-rebound",
   "metadata": {},
   "outputs": [],
   "source": [
    "timescale = timescaledbAccess.timescaleAccess()\n",
    "sql = (\"SELECT id, symbol, takeprofit, stoploss, askprice\" +\n",
    "      \" FROM table001 where takeprofit is not null;\")\n",
    "bA = pd.DataFrame(timescale.sqlQuery(sql))"
   ]
  },
  {
   "cell_type": "code",
   "execution_count": 74,
   "id": "sublime-messenger",
   "metadata": {},
   "outputs": [],
   "source": [
    "bA[2] = pd.to_numeric(bA[2], downcast=\"float\")\n",
    "bA[3] = pd.to_numeric(bA[3], downcast=\"float\")"
   ]
  },
  {
   "cell_type": "code",
   "execution_count": 77,
   "id": "acting-investing",
   "metadata": {},
   "outputs": [
    {
     "name": "stdout",
     "output_type": "stream",
     "text": [
      "select id, askprice from table001 where id > '715800' and symbol = 'HARDBNB' and askprice not between '0.0026889949' and '0.002636501';\n",
      "0.00266000\n",
      "          0           1\n",
      "0    715997  0.00267000\n",
      "1    716194  0.00267000\n",
      "2    716391  0.00267000\n",
      "3    716588  0.00267000\n",
      "4    716785  0.00267000\n",
      "..      ...         ...\n",
      "102  736091  0.00265000\n",
      "103  736288  0.00265000\n",
      "104  736485  0.00265000\n",
      "105  736682  0.00265000\n",
      "106  736879  0.00265000\n",
      "\n",
      "[107 rows x 2 columns]\n"
     ]
    }
   ],
   "source": [
    "sql = (\"select id, askprice from table001\" + \" where id > '\" + str(bA[0][0]) + \n",
    "       \"' and symbol = '\" + str(bA[1][0]) + \n",
    "       \"' and askprice between '\" + str(bA[2][0]) +\n",
    "       \"' and '\" + str(bA[3][0]) +\n",
    "       \"';\")\n",
    "print(sql)\n",
    "print(bA[4][0])\n",
    "validated = pd.DataFrame(timescale.sqlQuery(sql))\n",
    "print((validated))"
   ]
  },
  {
   "cell_type": "code",
   "execution_count": 64,
   "id": "changed-header",
   "metadata": {},
   "outputs": [
    {
     "data": {
      "text/plain": [
       "428"
      ]
     },
     "execution_count": 64,
     "metadata": {},
     "output_type": "execute_result"
    }
   ],
   "source": [
    "validated[1] = pd.to_numeric(validated[1], downcast=\"float\")\n",
    "len(validated)"
   ]
  },
  {
   "cell_type": "code",
   "execution_count": 65,
   "id": "offensive-table",
   "metadata": {},
   "outputs": [
    {
     "data": {
      "text/plain": [
       "0"
      ]
     },
     "execution_count": 65,
     "metadata": {},
     "output_type": "execute_result"
    }
   ],
   "source": [
    "validated = validated[validated[1] >= float(bA[2][0])]\n",
    "validated = validated[validated[1] <= float(bA[3][0])]\n",
    "len(validated)"
   ]
  },
  {
   "cell_type": "code",
   "execution_count": null,
   "id": "successful-peoples",
   "metadata": {},
   "outputs": [],
   "source": [
    "stopId = validated[validated[0] == validated[0].min()]\n",
    "percentChange = ((float(stopId[1]) - float(bA[4][i])) / float(bA[4][i])) * 100 \n",
    "    #update database to include buy statement\n",
    "    sql = (\"UPDATE table001 SET\" +\n",
    "    \" resultpercent = '\" + str(percentChange) +\n",
    "    \"' WHERE id = '\" + str(bA[0][i]) +\n",
    "    \"';\")\n",
    "    timescale.sqlUpdate(sql)\n",
    "timescale.databaseClose()\n"
   ]
  }
 ],
 "metadata": {
  "kernelspec": {
   "display_name": "Python 3",
   "language": "python",
   "name": "python3"
  },
  "language_info": {
   "codemirror_mode": {
    "name": "ipython",
    "version": 3
   },
   "file_extension": ".py",
   "mimetype": "text/x-python",
   "name": "python",
   "nbconvert_exporter": "python",
   "pygments_lexer": "ipython3",
   "version": "3.8.5"
  }
 },
 "nbformat": 4,
 "nbformat_minor": 5
}
