{
 "cells": [
  {
   "cell_type": "code",
   "execution_count": null,
   "id": "99342fc8",
   "metadata": {},
   "outputs": [],
   "source": [
    "#import modules\n",
    "import json\n",
    "import pandas as pd\n",
    "import schedule\n",
    "import time\n",
    "\n",
    "#import classes from ./ folder\n",
    "import timescaledbAccess"
   ]
  },
  {
   "cell_type": "code",
   "execution_count": null,
   "id": "fb8c89cb",
   "metadata": {},
   "outputs": [],
   "source": [
    "#read fibonacci retracements  from json\n",
    "with open('fibLvl.json') as file:\n",
    "    fibLvl = json.load(file)"
   ]
  },
  {
   "cell_type": "code",
   "execution_count": null,
   "id": "63d4a32c",
   "metadata": {},
   "outputs": [],
   "source": [
    "timescale = timescaledbAccess.timescaleAccess()\n",
    "bA = pd.DataFrame(timescale.sqlQuery(\"SELECT id, symbol;\"))"
   ]
  },
  {
   "cell_type": "code",
   "execution_count": null,
   "id": "e7adbab8",
   "metadata": {},
   "outputs": [],
   "source": [
    "def calculateResult(resultData, bA, i):\n",
    "    stopId = resultData[resultData[0] == resultData[0].min()]\n",
    "    percentChange = ((stopId[1] - bA[4][i]) / bA[4][i]) * 100\n",
    "    #update database to include buy statement\n",
    "    sql = (\"UPDATE table001 SET\" +\n",
    "        \" resultpercent = '\" + str(float(percentChange)) +\n",
    "        \"', stopid = '\" + str(float(stopId[0])) +\n",
    "        \"' WHERE id = '\" + str(bA[0][i]) +\n",
    "        \"';\")\n",
    "    timescale.sqlUpdate(sql)\n",
    "\n",
    "def runValidation():\n",
    "    global timescale\n",
    "    timescale = timescaledbAccess.timescaleAccess()\n",
    "    sql = (\"SELECT id, symbol, takeprofit, stoploss, askprice\" +\n",
    "        \" FROM table001 WHERE\" +\n",
    "        \" resultpercent IS NULL \" +\n",
    "        \" AND takeprofit IS NOT NULL;\")\n",
    "    bA = pd.DataFrame(timescale.sqlQuery(sql))\n",
    "    if len(bA) > 0:\n",
    "        bA[0] = pd.to_numeric(bA[0])\n",
    "        bA[2] = pd.to_numeric(bA[2])\n",
    "        bA[3] = pd.to_numeric(bA[3])\n",
    "        bA[4] = pd.to_numeric(bA[4])\n",
    "        for i, row in bA.iterrows():\n",
    "            sql = (\"select id, askprice from table001\" + \" where id > '\" + str(bA[0][i]) +\n",
    "                    \"' and symbol = '\" + str(bA[1][i]) + \"';\")\n",
    "            validated = pd.DataFrame(timescale.sqlQuery(sql))\n",
    "            if len(validated) > 0:\n",
    "                validated[0] = pd.to_numeric(validated[0])\n",
    "                validated[1] = pd.to_numeric(validated[1])\n",
    "                tpData = validated[validated[1] >= bA[2][i]]\n",
    "                slData = validated[validated[1] <= bA[3][i]]\n",
    "                if (len(slData) > 0 and len(slData) > 0 and\n",
    "                    slData[0].min() < tpData[0].min()):\n",
    "                    calculateResult(slData, bA, i)\n",
    "                elif (len(slData) > 0 and len(slData) > 0 and\n",
    "                    slData[0].min() > tpData[0].min()):\n",
    "                    calculateResult(tpData, bA, i)\n",
    "                elif len(slData) > 0:\n",
    "                    calculateResult(slData, bA, i)\n",
    "                elif len(tpData) > 0:\n",
    "                    calculateResult(tpData, bA, i)\n",
    "                else:\n",
    "                    pass\n",
    "    timescale.databaseClose()\n",
    "\n",
    "#check if result has been reached every minute\n",
    "schedule.every().minute.at(\":30\").do(runValidation)\n",
    "\n",
    "#repeat\n",
    "while True:\n",
    "    schedule.run_pending()\n",
    "    time.sleep(1"
   ]
  }
 ],
 "metadata": {
  "kernelspec": {
   "display_name": "Python 3",
   "language": "python",
   "name": "python3"
  },
  "language_info": {
   "codemirror_mode": {
    "name": "ipython",
    "version": 3
   },
   "file_extension": ".py",
   "mimetype": "text/x-python",
   "name": "python",
   "nbconvert_exporter": "python",
   "pygments_lexer": "ipython3",
   "version": "3.9.4"
  }
 },
 "nbformat": 4,
 "nbformat_minor": 5
}
