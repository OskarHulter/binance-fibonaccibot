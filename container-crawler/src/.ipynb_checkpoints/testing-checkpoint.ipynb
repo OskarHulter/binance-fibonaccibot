{
 "cells": [
  {
   "cell_type": "code",
   "execution_count": 102,
   "id": "prepared-alfred",
   "metadata": {},
   "outputs": [],
   "source": [
    "#import modules\n",
    "import json\n",
    "import pandas as pd\n",
    "import schedule\n",
    "import time\n",
    "\n",
    "#import classes from ./ folder\n",
    "import timescaledbAccess\n",
    "\n",
    "#read fibonacci retracements  from json\n",
    "with open('fibLvl.json') as file:\n",
    "    fibLvl = json.load(file)\n",
    "\n",
    "#define validate function\n",
    "def validate(resultData, i, buyAdvice):\n",
    "    stopId = resultData[resultData[0] == min(resultData[0])]\n",
    "    percentChange = ((float(stopId[1]) - float(buyAdvice[9][i])) / float(buyAdvice[9][i])) * 100\n",
    "\n",
    "    #update database to include buy statement\n",
    "    sql = (\"UPDATE table001 SET\" +\n",
    "    \" resultpercent = '\" + str(percentChange) +\n",
    "    \"' WHERE id = '\" + str(buyAdvice[22][i]) +\n",
    "    \"';\")\n",
    "    timescale.sqlUpdate(sql)\n",
    "    print(\"resultpercent has been updated\")\n",
    "\n",
    "timescale = timescaledbAccess.timescaleAccess()"
   ]
  },
  {
   "cell_type": "code",
   "execution_count": 103,
   "id": "genetic-parallel",
   "metadata": {},
   "outputs": [],
   "source": [
    "sql = (\"SELECT * FROM table001 WHERE takeprofit IS NOT NULL;\")\n",
    "buyAdvice = pd.DataFrame(timescale.sqlQuery(sql))"
   ]
  },
  {
   "cell_type": "code",
   "execution_count": 117,
   "id": "expanded-annual",
   "metadata": {},
   "outputs": [
    {
     "name": "stdout",
     "output_type": "stream",
     "text": [
      "50\n"
     ]
    }
   ],
   "source": [
    "print(len(buyAdvice))\n",
    "i=49"
   ]
  },
  {
   "cell_type": "code",
   "execution_count": 119,
   "id": "contemporary-iraqi",
   "metadata": {},
   "outputs": [
    {
     "name": "stdout",
     "output_type": "stream",
     "text": [
      "select id, askprice from table001 where id > '227900' and symbol = 'BNBPAX' and askprice < '431.0100437879029';\n"
     ]
    }
   ],
   "source": [
    "sql = (\"select id, askprice from table001 where id > '\" +\n",
    "    str(buyAdvice[22][i]) +\n",
    "    \"' and symbol = '\" +\n",
    "    str(buyAdvice[0][i]) +\n",
    "    \"' and askprice < '\" +\n",
    "    str(buyAdvice[24][i]) +\n",
    "    \"';\")\n",
    "print(sql)\n",
    "#slData = pd.DataFrame(timescale.sqlQuery(sql))"
   ]
  },
  {
   "cell_type": "code",
   "execution_count": 114,
   "id": "historical-personality",
   "metadata": {},
   "outputs": [
    {
     "name": "stdout",
     "output_type": "stream",
     "text": [
      "Empty DataFrame\n",
      "Columns: []\n",
      "Index: []\n"
     ]
    }
   ],
   "source": [
    "print(slData)"
   ]
  },
  {
   "cell_type": "code",
   "execution_count": 107,
   "id": "marked-wagon",
   "metadata": {},
   "outputs": [],
   "source": [
    "sql = (\"select id, askprice from table001 where id > '\" +\n",
    "    str(buyAdvice[22][i]) +\n",
    "    \"' and symbol = '\" +\n",
    "    str(buyAdvice[0][i]) +\n",
    "    \"' and askprice > '\" +\n",
    "    str(buyAdvice[23][i]) +\n",
    "    \"';\")\n",
    "tpData = pd.DataFrame(timescale.sqlQuery(sql))"
   ]
  },
  {
   "cell_type": "code",
   "execution_count": 108,
   "id": "medical-layer",
   "metadata": {},
   "outputs": [
    {
     "name": "stdout",
     "output_type": "stream",
     "text": [
      "Empty DataFrame\n",
      "Columns: []\n",
      "Index: []\n"
     ]
    }
   ],
   "source": [
    "print(tpData)"
   ]
  },
  {
   "cell_type": "code",
   "execution_count": 109,
   "id": "three-experience",
   "metadata": {},
   "outputs": [
    {
     "name": "stdout",
     "output_type": "stream",
     "text": [
      "waiting for more data, trade not closed yet\n"
     ]
    }
   ],
   "source": [
    "\n",
    "#has both sl and tp been reached and sl was first\n",
    "if (len(slData) > 1 and (len(tpData) > 1) and\n",
    "    min(slData[0]) < min(tpData[0])):\n",
    "    validate(slData,i,buyAdvice)\n",
    "\n",
    "#has only sl been reached\n",
    "elif len(tpData) < len(slData):\n",
    "    validate(slData,i,buyAdvice)\n",
    "\n",
    "#has both sl and tp been reached and tp was first\n",
    "elif (len(slData) > 1 and len(tpData) > 1 and\n",
    "        min(slData[0]) > min(tpData[0])):\n",
    "    validate(tpData,i,buyAdvice)\n",
    "\n",
    "#has only tp data been reached\n",
    "elif len(slData) < len(tpData):\n",
    "    validate(tpData,i,buyAdvice)\n",
    "\n",
    "#has neither sl nor tp been reached\n",
    "else:\n",
    "    print(\"waiting for more data, trade not closed yet\")\n",
    "timescale.databaseClose()\n",
    "\n"
   ]
  },
  {
   "cell_type": "code",
   "execution_count": null,
   "id": "ceramic-western",
   "metadata": {},
   "outputs": [],
   "source": []
  }
 ],
 "metadata": {
  "kernelspec": {
   "display_name": "Python 3",
   "language": "python",
   "name": "python3"
  },
  "language_info": {
   "codemirror_mode": {
    "name": "ipython",
    "version": 3
   },
   "file_extension": ".py",
   "mimetype": "text/x-python",
   "name": "python",
   "nbconvert_exporter": "python",
   "pygments_lexer": "ipython3",
   "version": "3.8.5"
  }
 },
 "nbformat": 4,
 "nbformat_minor": 5
}
