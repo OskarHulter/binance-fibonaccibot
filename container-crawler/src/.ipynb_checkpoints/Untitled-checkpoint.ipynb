{
 "cells": [
  {
   "cell_type": "code",
   "execution_count": 83,
   "id": "nuclear-screen",
   "metadata": {},
   "outputs": [],
   "source": [
    "#import modules\n",
    "import requests\n",
    "import json\n",
    "from binance.client import Client\n",
    "import sys\n",
    "import os\n",
    "import itertools\n",
    "from dotenv import load_dotenv\n",
    "import schedule\n",
    "import time\n",
    "import json\n",
    "from envs import env\n",
    "import pandas as pd"
   ]
  },
  {
   "cell_type": "code",
   "execution_count": 84,
   "id": "satisfactory-absorption",
   "metadata": {},
   "outputs": [],
   "source": [
    "#import classes from ./ folder\n",
    "import timescaledbAccess"
   ]
  },
  {
   "cell_type": "code",
   "execution_count": 85,
   "id": "every-leave",
   "metadata": {},
   "outputs": [],
   "source": [
    "#read env vars\n",
    "load_dotenv()\n",
    "\n",
    "try:\n",
    "    apiSecret=env('apiSecret')\n",
    "    apiKey=env('apiKey')\n",
    "except KeyError:\n",
    "    print(\"No env variables set.\")\n",
    "    sys.exit(1)"
   ]
  },
  {
   "cell_type": "code",
   "execution_count": 86,
   "id": "weekly-gibson",
   "metadata": {},
   "outputs": [],
   "source": [
    "#read fibonacci retracements  from json\n",
    "with open('fibLvl.json') as file:\n",
    "    fibLvl = json.load(file)\n",
    "with open('tradableLvl.json') as file:\n",
    "    tradableLvl = json.load(file)"
   ]
  },
  {
   "cell_type": "code",
   "execution_count": 87,
   "id": "dutch-demonstration",
   "metadata": {},
   "outputs": [],
   "source": [
    "#create data the new class will have to eat\n",
    "client = Client(apiKey, apiSecret, {'timeout':600})\n",
    "tickers = client.get_ticker()\n",
    "tickersSend = tickers"
   ]
  },
  {
   "cell_type": "code",
   "execution_count": 88,
   "id": "detailed-genesis",
   "metadata": {},
   "outputs": [],
   "source": [
    "#find out if price is close to 24h ath and 24h atl\n",
    "if (float(tickersSend[1]['askPrice']) > (float(tickersSend[1]['lowPrice']) * 1.1) or \n",
    "    float(tickersSend[1]['askPrice']) < (float(tickersSend[1]['highPrice']) * 0.9)):\n",
    "        print(\"hello\")"
   ]
  },
  {
   "cell_type": "code",
   "execution_count": 89,
   "id": "august-biodiversity",
   "metadata": {},
   "outputs": [],
   "source": [
    "#get largeData\n",
    "timescale = timescaledbAccess.timescaleAccess()\n",
    "sql = (\"SELECT * FROM table001 WHERE symbol LIKE '\" + tickersSend[10]['symbol'] + \n",
    "       \"' AND time > NOW() - INTERVAL '10 hours';\")\n",
    "largeData = pd.DataFrame(timescale.sqlQuery(sql))"
   ]
  },
  {
   "cell_type": "code",
   "execution_count": 90,
   "id": "altered-young",
   "metadata": {},
   "outputs": [],
   "source": [
    "#calculate dif\n",
    "diff = float(largeData[1].max()) - float(largeData[1].min())"
   ]
  },
  {
   "cell_type": "code",
   "execution_count": 91,
   "id": "intense-blake",
   "metadata": {},
   "outputs": [
    {
     "name": "stdout",
     "output_type": "stream",
     "text": [
      "       0         1         2         3\n",
      "0  1.618  0.034848  0.034830  0.034865\n",
      "1  1.382  0.030416  0.030401  0.030431\n",
      "2  1.236  0.027675  0.027661  0.027688\n",
      "3  1.000  0.023243  0.023231  0.023255\n",
      "4  0.786  0.019225  0.019215  0.019234\n",
      "5  0.618  0.016070  0.016062  0.016078\n",
      "6  0.500  0.013854  0.013847  0.013861\n",
      "7  0.382  0.011638  0.011632  0.011644\n",
      "8  0.236  0.008897  0.008892  0.008901\n",
      "9  0.000  0.004465  0.004463  0.004467\n"
     ]
    }
   ],
   "source": [
    "# calculate fibRetracements\n",
    "fibRetracement = pd.DataFrame(fibLvl)\n",
    "for lvl in fibRetracement:\n",
    "    fibRetracement[1] = float(tickersSend[1]['askPrice'])- diff * fibRetracement[0]\n",
    "    fibRetracement[2] = fibRetracement[1] * 0.9995\n",
    "    fibRetracement[3] = fibRetracement[1] * 1.0005\n",
    "print(fibRetracement)"
   ]
  },
  {
   "cell_type": "code",
   "execution_count": 99,
   "id": "curious-cologne",
   "metadata": {},
   "outputs": [],
   "source": [
    "#check if there is a reason to buy\n",
    "loopRange = range(2, len(fibRetracement) -2)\n",
    "for i in loopRange:\n",
    "    if (float(tickersSend[1]['askPrice']) > fibRetracement[2][i] and\n",
    "    float(tickersSend[1]['askPrice']) < fibRetracement[3][i] and\n",
    "    float(tickersSend[1]['weightedavgprice']) > 0):\n",
    "        #check if advice has been given in the last 10 minutes for the pair\n",
    "        sql = (\"SELECT count(*) FROM table001 WHERE symbol LIKE '\" + tickersSend[1]['symbol'] + \n",
    "               \"' AND time > NOW() - INTERVAL '10 minutes' AND takeprofit > 1;\")\n",
    "        backLoop = timescale.sqlQuery(sql)[0][0]\n",
    "        if backLoop < 1:\n",
    "            sL = fibRetracement[2][i-1]\n",
    "            tP = fibRetracement[2][i+2]\n",
    "            sql = (\"UPDATE table001 SET \" +\n",
    "                 \" takeProfit = '\" + tP +\n",
    "                 \"', stopLoss = '\" + sL +\n",
    "                 \"', startId = '\" + largeData[9].min() +\n",
    "                 \"', fibLevel = '\" + fibRetracement[0][i] +\n",
    "                 \"' WHERE id = '\" +lastData[22] +\n",
    "                 \"';\")"
   ]
  },
  {
   "cell_type": "code",
   "execution_count": 118,
   "id": "trying-fields",
   "metadata": {},
   "outputs": [
    {
     "data": {
      "text/plain": [
       "0      0.22516400\n",
       "1      0.22505300\n",
       "2      0.22493600\n",
       "3      0.22483800\n",
       "4      0.22450300\n",
       "          ...    \n",
       "595    0.22447100\n",
       "596    0.22453300\n",
       "597    0.22456200\n",
       "598    0.22457600\n",
       "599    0.22483600\n",
       "Name: 9, Length: 600, dtype: object"
      ]
     },
     "execution_count": 118,
     "metadata": {},
     "output_type": "execute_result"
    }
   ],
   "source": [
    "largeData[9]"
   ]
  },
  {
   "cell_type": "code",
   "execution_count": null,
   "id": "designing-suggestion",
   "metadata": {},
   "outputs": [],
   "source": []
  }
 ],
 "metadata": {
  "kernelspec": {
   "display_name": "Python 3",
   "language": "python",
   "name": "python3"
  },
  "language_info": {
   "codemirror_mode": {
    "name": "ipython",
    "version": 3
   },
   "file_extension": ".py",
   "mimetype": "text/x-python",
   "name": "python",
   "nbconvert_exporter": "python",
   "pygments_lexer": "ipython3",
   "version": "3.8.5"
  }
 },
 "nbformat": 4,
 "nbformat_minor": 5
}
