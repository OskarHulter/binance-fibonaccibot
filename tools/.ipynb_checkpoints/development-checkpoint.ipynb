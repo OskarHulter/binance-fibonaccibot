{
 "cells": [
  {
   "cell_type": "code",
   "execution_count": 57,
   "id": "noticed-duncan",
   "metadata": {},
   "outputs": [],
   "source": [
    "#import modules\n",
    "import json\n",
    "import pandas as pd\n",
    "from binance.client import Client\n",
    "from dotenv import load_dotenv\n",
    "from envs import env\n",
    "import time\n",
    "import re\n",
    "import os\n",
    "import datetime\n",
    "from datetime import timedelta\n",
    "import matplotlib.pyplot as plt\n",
    "import statistics\n",
    "from sklearn.linear_model import LinearRegression\n",
    "from sklearn.metrics import mean_squared_error,r2_score,explained_variance_score\n",
    "import numpy"
   ]
  },
  {
   "cell_type": "code",
   "execution_count": 42,
   "id": "9c49185a",
   "metadata": {},
   "outputs": [],
   "source": [
    "lin_reg=LinearRegression()"
   ]
  },
  {
   "cell_type": "code",
   "execution_count": null,
   "id": "b920eb7f",
   "metadata": {},
   "outputs": [],
   "source": [
    "#import classes from ./ folder\n",
    "import postgresdbAccess"
   ]
  },
  {
   "cell_type": "code",
   "execution_count": null,
   "id": "f3541016",
   "metadata": {},
   "outputs": [],
   "source": [
    "#read fibonacci retracements  from json\n",
    "with open('fibLvl.json') as file:\n",
    "    fibLvl = json.load(file)"
   ]
  },
  {
   "cell_type": "code",
   "execution_count": 11,
   "id": "2f4c8b7f",
   "metadata": {},
   "outputs": [],
   "source": [
    "#initiate empty open positions\n",
    "openPositions = {}\n",
    "#initiate postgresdb class\n",
    "postgres = postgresdbAccess.postgresAccess()"
   ]
  },
  {
   "cell_type": "code",
   "execution_count": 12,
   "id": "concerned-satellite",
   "metadata": {},
   "outputs": [],
   "source": [
    "#load dotenv variables\n",
    "load_dotenv('../.env')\n",
    "try:\n",
    "    liveVolume=env(\"liveVolume\")\n",
    "    apiSecret=env('apiSecret')\n",
    "    apiKey=env('apiKey')\n",
    "    dbTable=env('dbTable')\n",
    "    baseCurrency=env('baseCurrency')\n",
    "    brokerFees=float(env('brokerFees'))\n",
    "    liveTrading=env(\"liveTrading\", 'False').lower() in ('true', '1', 't')\n",
    "except KeyError:\n",
    "    print(\"No env variables set.\")\n",
    "    sys.exit(1)\n",
    "client = Client(apiKey, apiSecret, {'timeout':600})"
   ]
  },
  {
   "cell_type": "code",
   "execution_count": 13,
   "id": "3c80c169",
   "metadata": {},
   "outputs": [
    {
     "ename": "FileNotFoundError",
     "evalue": "[Errno 2] No such file or directory: 'databaseColumns.json'",
     "output_type": "error",
     "traceback": [
      "\u001b[0;31m---------------------------------------------------------------------------\u001b[0m",
      "\u001b[0;31mFileNotFoundError\u001b[0m                         Traceback (most recent call last)",
      "\u001b[0;32m<ipython-input-13-ec809b63adc9>\u001b[0m in \u001b[0;36m<module>\u001b[0;34m\u001b[0m\n\u001b[0;32m----> 1\u001b[0;31m \u001b[0;32mwith\u001b[0m \u001b[0mopen\u001b[0m\u001b[0;34m(\u001b[0m\u001b[0;34m'databaseColumns.json'\u001b[0m\u001b[0;34m)\u001b[0m \u001b[0;32mas\u001b[0m \u001b[0mfile\u001b[0m\u001b[0;34m:\u001b[0m\u001b[0;34m\u001b[0m\u001b[0;34m\u001b[0m\u001b[0m\n\u001b[0m\u001b[1;32m      2\u001b[0m     \u001b[0mcols\u001b[0m \u001b[0;34m=\u001b[0m \u001b[0mjson\u001b[0m\u001b[0;34m.\u001b[0m\u001b[0mload\u001b[0m\u001b[0;34m(\u001b[0m\u001b[0mfile\u001b[0m\u001b[0;34m)\u001b[0m\u001b[0;34m\u001b[0m\u001b[0;34m\u001b[0m\u001b[0m\n",
      "\u001b[0;31mFileNotFoundError\u001b[0m: [Errno 2] No such file or directory: 'databaseColumns.json'"
     ]
    }
   ],
   "source": [
    "with open('databaseColumns.json') as file:\n",
    "    cols = json.load(file)"
   ]
  },
  {
   "cell_type": "code",
   "execution_count": 20,
   "id": "d9014167",
   "metadata": {},
   "outputs": [],
   "source": [
    "#query for every line for symbol\n",
    "sql = (\"SELECT id, time, symbol, askprice, \" +\n",
    "       \"bidprice, highprice, quotevolume, \" +\n",
    "       \"pricechangepercent, weightedavgprice, openprice\" +\n",
    "    \" FROM \" + dbTable + \" WHERE\" +\n",
    "    \" symbol like 'DOTBNB' order by id;\")\n",
    "bigData = pd.DataFrame(postgres.sqlQuery(sql))\n",
    "bigData[0] = pd.to_numeric(bigData[0])\n",
    "bigData[1] = pd.to_datetime(bigData[1])\n",
    "bigData[3] = pd.to_numeric(bigData[3])\n",
    "bigData[6] = pd.to_numeric(bigData[6])\n",
    "bigData[7] = pd.to_numeric(bigData[7])\n",
    "bigData[8] = pd.to_numeric(bigData[8])\n",
    "bigData[9] = pd.to_numeric(bigData[9])\n",
    "#get start of timedelta\n",
    "bigData[5] = bigData[1] - timedelta(hours=30)"
   ]
  },
  {
   "cell_type": "code",
   "execution_count": 21,
   "id": "33750880",
   "metadata": {},
   "outputs": [],
   "source": [
    "#loop over every row\n",
    "for index, row in bigData.iterrows():\n",
    "    before_start_date = bigData[1] <= row[5]\n",
    "    if len(bigData.loc[before_start_date]) > 0:\n",
    "        #get data for consideration\n",
    "        after_start_date = bigData[1] >= row[5]\n",
    "        before_end_date = bigData[1] <= row[1]\n",
    "        between_two_dates = after_start_date & before_end_date\n",
    "        fibDates = bigData.loc[between_two_dates]\n",
    "        diff = fibDates[3].max() - fibDates[3].min()\n",
    "        # calculate fibRetracements\n",
    "        fibRetracement = pd.DataFrame(fibLvl)"
   ]
  },
  {
   "cell_type": "code",
   "execution_count": 29,
   "id": "ceeb69f6",
   "metadata": {},
   "outputs": [
    {
     "name": "stdout",
     "output_type": "stream",
     "text": [
      "            0                                1       2        3        4  \\\n",
      "0         534 2021-09-14 20:07:54.645675+00:00  DOTBNB  0.09174  0.09166   \n",
      "1        1282 2021-09-14 20:08:54.419267+00:00  DOTBNB  0.09169  0.09160   \n",
      "2        2030 2021-09-14 20:09:53.785747+00:00  DOTBNB  0.09167  0.09160   \n",
      "3        2778 2021-09-14 20:10:56.462145+00:00  DOTBNB  0.09160  0.09151   \n",
      "4        3526 2021-09-14 20:11:53.834118+00:00  DOTBNB  0.09166  0.09157   \n",
      "...       ...                              ...     ...      ...      ...   \n",
      "2896  2166742 2021-09-17 13:08:56.794989+00:00  DOTBNB  0.08220  0.08213   \n",
      "2897  2167490 2021-09-17 13:10:54.537693+00:00  DOTBNB  0.08231  0.08223   \n",
      "2898  2168238 2021-09-17 13:12:48.567088+00:00  DOTBNB  0.08230  0.08224   \n",
      "2899  2168986 2021-09-17 13:14:48.899262+00:00  DOTBNB  0.08222  0.08213   \n",
      "2900  2169734 2021-09-17 13:16:48.808039+00:00  DOTBNB  0.08235  0.08226   \n",
      "\n",
      "                                    5             6      7         8        9  \n",
      "0    2021-09-13 14:07:54.645675+00:00  60652.488080  2.908  0.090399  0.08905  \n",
      "1    2021-09-13 14:08:54.419267+00:00  60502.187542  3.061  0.090404  0.08887  \n",
      "2    2021-09-13 14:09:53.785747+00:00  60510.128740  3.209  0.090405  0.08880  \n",
      "3    2021-09-13 14:10:56.462145+00:00  60496.883555  2.911  0.090406  0.08896  \n",
      "4    2021-09-13 14:11:53.834118+00:00  60491.258830  3.118  0.090406  0.08884  \n",
      "...                               ...           ...    ...       ...      ...  \n",
      "2896 2021-09-16 07:08:56.794989+00:00  24858.114483 -1.011  0.083840  0.08307  \n",
      "2897 2021-09-16 07:10:54.537693+00:00  24851.549430 -1.059  0.083840  0.08312  \n",
      "2898 2021-09-16 07:12:48.567088+00:00  24770.002514 -1.177  0.083842  0.08328  \n",
      "2899 2021-09-16 07:14:48.899262+00:00  24765.177392 -1.213  0.083841  0.08326  \n",
      "2900 2021-09-16 07:16:48.808039+00:00  24753.137524 -0.962  0.083842  0.08317  \n",
      "\n",
      "[2901 rows x 10 columns]\n"
     ]
    }
   ],
   "source": [
    "print(bigData)"
   ]
  },
  {
   "cell_type": "code",
   "execution_count": 39,
   "id": "fda49192",
   "metadata": {},
   "outputs": [
    {
     "data": {
      "text/plain": [
       "0.0030686145774528203"
      ]
     },
     "execution_count": 39,
     "metadata": {},
     "output_type": "execute_result"
    }
   ],
   "source": [
    "statistics.stdev(bigData[8])"
   ]
  }
 ],
 "metadata": {
  "kernelspec": {
   "display_name": "Python 3",
   "language": "python",
   "name": "python3"
  },
  "language_info": {
   "codemirror_mode": {
    "name": "ipython",
    "version": 3
   },
   "file_extension": ".py",
   "mimetype": "text/x-python",
   "name": "python",
   "nbconvert_exporter": "python",
   "pygments_lexer": "ipython3",
   "version": "3.9.5"
  }
 },
 "nbformat": 4,
 "nbformat_minor": 5
}
