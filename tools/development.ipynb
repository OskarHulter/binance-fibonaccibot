{
 "cells": [
  {
   "cell_type": "code",
   "execution_count": 8,
   "id": "noticed-duncan",
   "metadata": {},
   "outputs": [],
   "source": [
    "#import modules\n",
    "import json\n",
    "import pandas as pd\n",
    "from binance.client import Client\n",
    "from dotenv import load_dotenv\n",
    "from envs import env\n",
    "import time\n",
    "import re\n",
    "import os\n",
    "import datetime\n",
    "from datetime import timedelta\n",
    "import matplotlib.pyplot as plt"
   ]
  },
  {
   "cell_type": "code",
   "execution_count": 9,
   "id": "concerned-satellite",
   "metadata": {},
   "outputs": [],
   "source": [
    "#load dotenv variables\n",
    "load_dotenv('../.envall')\n",
    "try:\n",
    "    liveVolume=env(\"liveVolume\")\n",
    "    apiSecret=env('apiSecret')\n",
    "    apiKey=env('apiKey')\n",
    "    dbTable=\"backtesting\"#env('dbTable')\n",
    "    baseCurrency=env('baseCurrency')\n",
    "    brokerFees=float(env('brokerFees'))\n",
    "    liveTrading=env(\"liveTrading\", 'False').lower() in ('true', '1', 't')\n",
    "except KeyError:\n",
    "    print(\"No env variables set.\")\n",
    "    sys.exit(1)\n",
    "client = Client(apiKey, apiSecret, {'timeout':600})"
   ]
  },
  {
   "cell_type": "code",
   "execution_count": 3,
   "id": "38b0804c",
   "metadata": {},
   "outputs": [],
   "source": [
    "client = Client(apiKey, apiSecret, {'timeout':600})\n",
    "tickers = client.get_ticker()"
   ]
  },
  {
   "cell_type": "code",
   "execution_count": 4,
   "id": "713fc3f6",
   "metadata": {},
   "outputs": [
    {
     "name": "stdout",
     "output_type": "stream",
     "text": [
      "{'symbol': 'ETHBTC', 'priceChange': '-0.00222000', 'priceChangePercent': '-3.263', 'weightedAvgPrice': '0.06728210', 'prevClosePrice': '0.06802500', 'lastPrice': '0.06581400', 'lastQty': '1.68900000', 'bidPrice': '0.06580600', 'bidQty': '12.03000000', 'askPrice': '0.06582200', 'askQty': '2.10700000', 'openPrice': '0.06803400', 'highPrice': '0.06888700', 'lowPrice': '0.06570000', 'volume': '136421.90400000', 'quoteVolume': '9178.75208490', 'openTime': 1625670497621, 'closeTime': 1625756897621, 'firstId': 281807451, 'lastId': 282002906, 'count': 195456}\n"
     ]
    }
   ],
   "source": [
    "print(tickers[0])"
   ]
  },
  {
   "cell_type": "code",
   "execution_count": 4,
   "id": "3c80c169",
   "metadata": {},
   "outputs": [],
   "source": [
    "with open('databaseColumns.json') as file:\n",
    "    cols = json.load(file)"
   ]
  },
  {
   "cell_type": "code",
   "execution_count": 7,
   "id": "d9014167",
   "metadata": {},
   "outputs": [
    {
     "name": "stdout",
     "output_type": "stream",
     "text": [
      "symbol\n",
      "priceChange\n",
      "priceChangePercent\n",
      "weightedAvgPrice\n",
      "prevClosePrice\n",
      "lastPrice\n",
      "lastQty\n",
      "bidPrice\n",
      "bidQty\n",
      "askPrice\n",
      "askQty\n",
      "openPrice\n",
      "highPrice\n",
      "lowPrice\n",
      "volume\n",
      "quoteVolume\n",
      "takeProfit\n",
      "stopLoss\n",
      "fibLevel\n",
      "startId\n",
      "stopId\n",
      "midId\n",
      "resultPercent\n",
      "corValue\n",
      "positionCost\n"
     ]
    }
   ],
   "source": [
    "for i in cols:\n",
    "    for ii in i:\n",
    "        print(ii)"
   ]
  }
 ],
 "metadata": {
  "kernelspec": {
   "display_name": "Python 3",
   "language": "python",
   "name": "python3"
  },
  "language_info": {
   "codemirror_mode": {
    "name": "ipython",
    "version": 3
   },
   "file_extension": ".py",
   "mimetype": "text/x-python",
   "name": "python",
   "nbconvert_exporter": "python",
   "pygments_lexer": "ipython3",
   "version": "3.9.5"
  }
 },
 "nbformat": 4,
 "nbformat_minor": 5
}
