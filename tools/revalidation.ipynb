{
 "cells": [
  {
   "cell_type": "code",
   "execution_count": 1,
   "id": "finnish-duration",
   "metadata": {},
   "outputs": [],
   "source": [
    "#import modules\n",
    "import json\n",
    "import pandas as pd\n",
    "from binance.client import Client\n",
    "from dotenv import load_dotenv\n",
    "from envs import env\n",
    "import time\n",
    "import re\n",
    "import os\n",
    "import datetime\n",
    "from datetime import timedelta\n",
    "import matplotlib.pyplot as plt"
   ]
  },
  {
   "cell_type": "code",
   "execution_count": 2,
   "id": "indirect-cooperation",
   "metadata": {},
   "outputs": [],
   "source": [
    "#import classes from ./ folder\n",
    "import postgresdbAccess"
   ]
  },
  {
   "cell_type": "code",
   "execution_count": 3,
   "id": "incorrect-enforcement",
   "metadata": {},
   "outputs": [],
   "source": [
    "#read fibonacci retracements  from json\n",
    "with open('fibLvl.json') as file:\n",
    "    fibLvl = json.load(file)"
   ]
  },
  {
   "cell_type": "code",
   "execution_count": 4,
   "id": "invisible-conditioning",
   "metadata": {},
   "outputs": [],
   "source": [
    "#load dotenv variables\n",
    "load_dotenv('../.envall')\n",
    "try:\n",
    "    liveVolume=env(\"liveVolume\")\n",
    "    apiSecret=env('apiSecret')\n",
    "    apiKey=env('apiKey')\n",
    "    dbTable=\"table001\"#env('dbTable')\n",
    "    baseCurrency=env('baseCurrency')\n",
    "    brokerFees=float(env('brokerFees'))\n",
    "    liveTrading=env(\"liveTrading\", 'False').lower() in ('true', '1', 't')\n",
    "except KeyError:\n",
    "    print(\"No env variables set.\")\n",
    "    sys.exit(1)\n",
    "client = Client(apiKey, apiSecret, {'timeout':600})"
   ]
  },
  {
   "cell_type": "code",
   "execution_count": 17,
   "id": "growing-title",
   "metadata": {},
   "outputs": [
    {
     "name": "stdout",
     "output_type": "stream",
     "text": [
      "0.1257455636404442\n",
      "9\n"
     ]
    }
   ],
   "source": [
    "#initiate postgresdb class\n",
    "postgres = postgresdbAccess.postgresAccess()\n",
    "sql = (\"SELECT id, time, symbol, askprice, bidprice, stopid\" +\n",
    "        \" FROM \" + dbTable + \" WHERE\" +\n",
    "        \" resultpercent is not null order by id;\")\n",
    "decisions = pd.DataFrame(postgres.sqlQuery(sql))\n",
    "decisions[0] = pd.to_numeric(decisions[0])\n",
    "decisions[3] = pd.to_numeric(decisions[3])\n",
    "decisions[1] = pd.to_datetime(decisions[1])\n",
    "#initialize empty result list\n",
    "result = []\n",
    "for index, row in decisions.iterrows():\n",
    "    #get row where trade was closed\n",
    "    sql = (\"SELECT askprice, bidprice\" +\n",
    "        \" FROM \" + dbTable + \" WHERE\" +\n",
    "        \" id = '\" + str(int(row[5])) + \"';\")\n",
    "    closeprice = pd.DataFrame(postgres.sqlQuery(sql))\n",
    "    #realistic settle\n",
    "    result.append(((closeprice[1][0] - row[3]) / row[3]) * 100 - brokerFees * 2.55)\n",
    "print(sum(result) / len(result))\n",
    "print(len(result))"
   ]
  },
  {
   "cell_type": "code",
   "execution_count": null,
   "id": "distant-local",
   "metadata": {},
   "outputs": [],
   "source": []
  }
 ],
 "metadata": {
  "kernelspec": {
   "display_name": "Python 3",
   "language": "python",
   "name": "python3"
  },
  "language_info": {
   "codemirror_mode": {
    "name": "ipython",
    "version": 3
   },
   "file_extension": ".py",
   "mimetype": "text/x-python",
   "name": "python",
   "nbconvert_exporter": "python",
   "pygments_lexer": "ipython3",
   "version": "3.9.5"
  }
 },
 "nbformat": 4,
 "nbformat_minor": 5
}
