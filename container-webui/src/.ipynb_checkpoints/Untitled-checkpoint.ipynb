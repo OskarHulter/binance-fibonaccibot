{
 "cells": [
  {
   "cell_type": "code",
   "execution_count": 72,
   "id": "available-watershed",
   "metadata": {},
   "outputs": [],
   "source": [
    "#import modules\n",
    "import json\n",
    "from binance.client import Client\n",
    "import sys\n",
    "import os\n",
    "import itertools\n",
    "from dotenv import load_dotenv\n",
    "import schedule\n",
    "import time\n",
    "from envs import env"
   ]
  },
  {
   "cell_type": "code",
   "execution_count": 73,
   "id": "focal-issue",
   "metadata": {},
   "outputs": [],
   "source": [
    "#define start balance\n",
    "startBalance=5.3591291"
   ]
  },
  {
   "cell_type": "code",
   "execution_count": 74,
   "id": "beginning-message",
   "metadata": {},
   "outputs": [],
   "source": [
    "#import classes from ./ folder\n",
    "import timescaledbAccess\n",
    "\n",
    "#read env vars\n",
    "load_dotenv()\n",
    "\n",
    "try:                                                                                       \n",
    "    apiSecret=env('apiSecret')\n",
    "    apiKey=env('apiKey')\n",
    "except KeyError:\n",
    "    print(\"No env variables set.\")\n",
    "    sys.exit(1)"
   ]
  },
  {
   "cell_type": "code",
   "execution_count": 75,
   "id": "scientific-colon",
   "metadata": {},
   "outputs": [],
   "source": [
    "#timescale = timescaledbAccess.timescaleAccess()\n",
    "client = Client(apiKey, apiSecret, {'timeout':600})\n",
    "tickers = client.get_ticker()"
   ]
  },
  {
   "cell_type": "code",
   "execution_count": 76,
   "id": "grand-skill",
   "metadata": {},
   "outputs": [
    {
     "name": "stdout",
     "output_type": "stream",
     "text": [
      "5.37674901\n"
     ]
    }
   ],
   "source": [
    "balance = float(client.get_asset_balance(asset='BNB')['free'])\n",
    "print(balance)"
   ]
  },
  {
   "cell_type": "code",
   "execution_count": 77,
   "id": "homeless-remark",
   "metadata": {},
   "outputs": [
    {
     "name": "stdout",
     "output_type": "stream",
     "text": [
      "0.33%\n"
     ]
    }
   ],
   "source": [
    "print(str(round((((balance/startBalance) * 100) - 100),2)) + \"%\")"
   ]
  },
  {
   "cell_type": "code",
   "execution_count": null,
   "id": "wicked-reason",
   "metadata": {},
   "outputs": [],
   "source": []
  }
 ],
 "metadata": {
  "kernelspec": {
   "display_name": "Python 3",
   "language": "python",
   "name": "python3"
  },
  "language_info": {
   "codemirror_mode": {
    "name": "ipython",
    "version": 3
   },
   "file_extension": ".py",
   "mimetype": "text/x-python",
   "name": "python",
   "nbconvert_exporter": "python",
   "pygments_lexer": "ipython3",
   "version": "3.8.5"
  }
 },
 "nbformat": 4,
 "nbformat_minor": 5
}
