{
 "cells": [
  {
   "cell_type": "code",
   "execution_count": 85,
   "id": "available-watershed",
   "metadata": {},
   "outputs": [],
   "source": [
    "#import modules\n",
    "import json\n",
    "from binance.client import Client\n",
    "import sys\n",
    "import os\n",
    "import itertools\n",
    "from dotenv import load_dotenv\n",
    "import schedule\n",
    "import time\n",
    "from envs import env"
   ]
  },
  {
   "cell_type": "code",
   "execution_count": 86,
   "id": "focal-issue",
   "metadata": {},
   "outputs": [],
   "source": [
    "#define start balance\n",
    "startBalance=5.3591291"
   ]
  },
  {
   "cell_type": "code",
   "execution_count": 87,
   "id": "beginning-message",
   "metadata": {},
   "outputs": [],
   "source": [
    "#import classes from ./ folder\n",
    "import timescaledbAccess\n",
    "\n",
    "#read env vars\n",
    "load_dotenv()\n",
    "\n",
    "try:                                                                                       \n",
    "    apiSecret=env('apiSecret')\n",
    "    apiKey=env('apiKey')\n",
    "except KeyError:\n",
    "    print(\"No env variables set.\")\n",
    "    sys.exit(1)"
   ]
  },
  {
   "cell_type": "code",
   "execution_count": 88,
   "id": "scientific-colon",
   "metadata": {},
   "outputs": [],
   "source": [
    "#timescale = timescaledbAccess.timescaleAccess()\n",
    "client = Client(apiKey, apiSecret, {'timeout':600})\n",
    "tickers = client.get_ticker()"
   ]
  },
  {
   "cell_type": "code",
   "execution_count": 89,
   "id": "cubic-harmony",
   "metadata": {},
   "outputs": [
    {
     "name": "stdout",
     "output_type": "stream",
     "text": [
      "{'symbol': 'ETHBTC', 'priceChange': '0.00012900', 'priceChangePercent': '0.277', 'weightedAvgPrice': '0.04660907', 'prevClosePrice': '0.04652200', 'lastPrice': '0.04665100', 'lastQty': '0.10000000', 'bidPrice': '0.04665100', 'bidQty': '7.28800000', 'askPrice': '0.04665200', 'askQty': '4.26900000', 'openPrice': '0.04652200', 'highPrice': '0.04714000', 'lowPrice': '0.04600000', 'volume': '159445.91500000', 'quoteVolume': '7431.62650721', 'openTime': 1619430635691, 'closeTime': 1619517035691, 'firstId': 255785900, 'lastId': 256008331, 'count': 222432}\n"
     ]
    }
   ],
   "source": [
    "print(tickers[0])"
   ]
  },
  {
   "cell_type": "code",
   "execution_count": 90,
   "id": "grand-skill",
   "metadata": {},
   "outputs": [
    {
     "name": "stdout",
     "output_type": "stream",
     "text": [
      "4.36686862\n"
     ]
    }
   ],
   "source": [
    "balance = float(client.get_asset_balance(asset='BNB')['free'])\n",
    "print(balance)"
   ]
  },
  {
   "cell_type": "code",
   "execution_count": 91,
   "id": "homeless-remark",
   "metadata": {},
   "outputs": [
    {
     "name": "stdout",
     "output_type": "stream",
     "text": [
      "-18.52%\n"
     ]
    }
   ],
   "source": [
    "print(str(round((((balance/startBalance) * 100) - 100),2)) + \"%\")"
   ]
  },
  {
   "cell_type": "code",
   "execution_count": null,
   "id": "wicked-reason",
   "metadata": {},
   "outputs": [],
   "source": []
  }
 ],
 "metadata": {
  "kernelspec": {
   "display_name": "Python 3",
   "language": "python",
   "name": "python3"
  },
  "language_info": {
   "codemirror_mode": {
    "name": "ipython",
    "version": 3
   },
   "file_extension": ".py",
   "mimetype": "text/x-python",
   "name": "python",
   "nbconvert_exporter": "python",
   "pygments_lexer": "ipython3",
   "version": "3.8.5"
  }
 },
 "nbformat": 4,
 "nbformat_minor": 5
}
