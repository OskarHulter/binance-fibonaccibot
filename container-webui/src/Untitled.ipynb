{
 "cells": [
  {
   "cell_type": "code",
   "execution_count": 78,
   "id": "available-watershed",
   "metadata": {},
   "outputs": [],
   "source": [
    "#import modules\n",
    "import json\n",
    "from binance.client import Client\n",
    "import sys\n",
    "import os\n",
    "import itertools\n",
    "from dotenv import load_dotenv\n",
    "import schedule\n",
    "import time\n",
    "from envs import env"
   ]
  },
  {
   "cell_type": "code",
   "execution_count": 79,
   "id": "focal-issue",
   "metadata": {},
   "outputs": [],
   "source": [
    "#define start balance\n",
    "startBalance=5.3591291"
   ]
  },
  {
   "cell_type": "code",
   "execution_count": 80,
   "id": "beginning-message",
   "metadata": {},
   "outputs": [],
   "source": [
    "#import classes from ./ folder\n",
    "import timescaledbAccess\n",
    "\n",
    "#read env vars\n",
    "load_dotenv()\n",
    "\n",
    "try:                                                                                       \n",
    "    apiSecret=env('apiSecret')\n",
    "    apiKey=env('apiKey')\n",
    "except KeyError:\n",
    "    print(\"No env variables set.\")\n",
    "    sys.exit(1)"
   ]
  },
  {
   "cell_type": "code",
   "execution_count": 81,
   "id": "scientific-colon",
   "metadata": {},
   "outputs": [],
   "source": [
    "#timescale = timescaledbAccess.timescaleAccess()\n",
    "client = Client(apiKey, apiSecret, {'timeout':600})\n",
    "tickers = client.get_ticker()"
   ]
  },
  {
   "cell_type": "code",
   "execution_count": 84,
   "id": "other-serum",
   "metadata": {},
   "outputs": [
    {
     "name": "stdout",
     "output_type": "stream",
     "text": [
      "{'symbol': 'ETHBTC', 'priceChange': '0.00017100', 'priceChangePercent': '0.367', 'weightedAvgPrice': '0.04657951', 'prevClosePrice': '0.04661400', 'lastPrice': '0.04678500', 'lastQty': '0.00400000', 'bidPrice': '0.04678400', 'bidQty': '8.30000000', 'askPrice': '0.04678600', 'askQty': '3.00000000', 'openPrice': '0.04661400', 'highPrice': '0.04714000', 'lowPrice': '0.04600000', 'volume': '166326.03600000', 'quoteVolume': '7747.38490831', 'openTime': 1619421302995, 'closeTime': 1619507702995, 'firstId': 255760277, 'lastId': 255988205, 'count': 227929}\n"
     ]
    }
   ],
   "source": [
    "print(tickers[0])"
   ]
  },
  {
   "cell_type": "code",
   "execution_count": 82,
   "id": "grand-skill",
   "metadata": {},
   "outputs": [
    {
     "name": "stdout",
     "output_type": "stream",
     "text": [
      "4.36686862\n"
     ]
    }
   ],
   "source": [
    "balance = float(client.get_asset_balance(asset='BNB')['free'])\n",
    "print(balance)"
   ]
  },
  {
   "cell_type": "code",
   "execution_count": 83,
   "id": "homeless-remark",
   "metadata": {},
   "outputs": [
    {
     "name": "stdout",
     "output_type": "stream",
     "text": [
      "-18.52%\n"
     ]
    }
   ],
   "source": [
    "print(str(round((((balance/startBalance) * 100) - 100),2)) + \"%\")"
   ]
  },
  {
   "cell_type": "code",
   "execution_count": null,
   "id": "wicked-reason",
   "metadata": {},
   "outputs": [],
   "source": []
  }
 ],
 "metadata": {
  "kernelspec": {
   "display_name": "Python 3",
   "language": "python",
   "name": "python3"
  },
  "language_info": {
   "codemirror_mode": {
    "name": "ipython",
    "version": 3
   },
   "file_extension": ".py",
   "mimetype": "text/x-python",
   "name": "python",
   "nbconvert_exporter": "python",
   "pygments_lexer": "ipython3",
   "version": "3.8.5"
  }
 },
 "nbformat": 4,
 "nbformat_minor": 5
}
